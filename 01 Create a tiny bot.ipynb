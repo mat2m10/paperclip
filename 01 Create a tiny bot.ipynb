{
 "cells": [
  {
   "cell_type": "markdown",
   "id": "4cc4057e-b6e6-4133-914a-9cf7f85f2d2d",
   "metadata": {},
   "source": [
    "# import libraries"
   ]
  },
  {
   "cell_type": "code",
   "execution_count": 3,
   "id": "69b9dd03-1412-4fc1-95d7-5757dc397804",
   "metadata": {},
   "outputs": [],
   "source": [
    "import time\n",
    "import pygetwindow as gw"
   ]
  },
  {
   "cell_type": "code",
   "execution_count": null,
   "id": "a834e264-fc80-47be-8181-9ea2dad807bc",
   "metadata": {},
   "outputs": [
    {
     "name": "stdout",
     "output_type": "stream",
     "text": [
      "Open windows in Windows: ['01 Create a tiny bot - Google Chrome', 'Steam', 'Command Prompt', 'Command Prompt - jupyter  notebook', 'Program Manager']\n"
     ]
    }
   ],
   "source": [
    "def get_open_windows_in_windows():\n",
    "    try:\n",
    "        # Get all open windows\n",
    "        windows = gw.getAllTitles()\n",
    "        # Filter out empty window titles\n",
    "        windows = [win for win in windows if win.strip()]\n",
    "        \n",
    "        if not windows:\n",
    "            return \"No windows open\"\n",
    "        \n",
    "        return windows\n",
    "    except Exception as e:\n",
    "        return str(e)\n",
    "\n",
    "if __name__ == \"__main__\":\n",
    "    try:\n",
    "        while True:\n",
    "            open_windows = get_open_windows_in_windows()\n",
    "            print(\"Open windows in Windows:\", open_windows)\n",
    "            time.sleep(2)  # Wait for 2 seconds before checking again\n",
    "    except KeyboardInterrupt:\n",
    "        print(\"Stopped checking open windows.\")\n"
   ]
  },
  {
   "cell_type": "code",
   "execution_count": null,
   "id": "2b8cd80e-9033-4800-828e-f191849994e0",
   "metadata": {},
   "outputs": [],
   "source": []
  }
 ],
 "metadata": {
  "kernelspec": {
   "display_name": "Python 3 (ipykernel)",
   "language": "python",
   "name": "python3"
  },
  "language_info": {
   "codemirror_mode": {
    "name": "ipython",
    "version": 3
   },
   "file_extension": ".py",
   "mimetype": "text/x-python",
   "name": "python",
   "nbconvert_exporter": "python",
   "pygments_lexer": "ipython3",
   "version": "3.12.6"
  }
 },
 "nbformat": 4,
 "nbformat_minor": 5
}
